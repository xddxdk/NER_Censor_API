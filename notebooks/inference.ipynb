{
 "cells": [
  {
   "cell_type": "markdown",
   "id": "195c2b0f",
   "metadata": {},
   "source": [
    "### **Цензурирование**\n",
    "***\n",
    "Загрузка модели и токенизатора"
   ]
  },
  {
   "cell_type": "code",
   "execution_count": null,
   "id": "42cb958a",
   "metadata": {},
   "outputs": [
    {
     "data": {
      "text/plain": [
       "XLMRobertaForTokenClassification(\n",
       "  (roberta): XLMRobertaModel(\n",
       "    (embeddings): XLMRobertaEmbeddings(\n",
       "      (word_embeddings): Embedding(250002, 768, padding_idx=1)\n",
       "      (position_embeddings): Embedding(514, 768, padding_idx=1)\n",
       "      (token_type_embeddings): Embedding(1, 768)\n",
       "      (LayerNorm): LayerNorm((768,), eps=1e-05, elementwise_affine=True)\n",
       "      (dropout): Dropout(p=0.1, inplace=False)\n",
       "    )\n",
       "    (encoder): XLMRobertaEncoder(\n",
       "      (layer): ModuleList(\n",
       "        (0-11): 12 x XLMRobertaLayer(\n",
       "          (attention): XLMRobertaAttention(\n",
       "            (self): XLMRobertaSdpaSelfAttention(\n",
       "              (query): Linear(in_features=768, out_features=768, bias=True)\n",
       "              (key): Linear(in_features=768, out_features=768, bias=True)\n",
       "              (value): Linear(in_features=768, out_features=768, bias=True)\n",
       "              (dropout): Dropout(p=0.1, inplace=False)\n",
       "            )\n",
       "            (output): XLMRobertaSelfOutput(\n",
       "              (dense): Linear(in_features=768, out_features=768, bias=True)\n",
       "              (LayerNorm): LayerNorm((768,), eps=1e-05, elementwise_affine=True)\n",
       "              (dropout): Dropout(p=0.1, inplace=False)\n",
       "            )\n",
       "          )\n",
       "          (intermediate): XLMRobertaIntermediate(\n",
       "            (dense): Linear(in_features=768, out_features=3072, bias=True)\n",
       "            (intermediate_act_fn): GELUActivation()\n",
       "          )\n",
       "          (output): XLMRobertaOutput(\n",
       "            (dense): Linear(in_features=3072, out_features=768, bias=True)\n",
       "            (LayerNorm): LayerNorm((768,), eps=1e-05, elementwise_affine=True)\n",
       "            (dropout): Dropout(p=0.1, inplace=False)\n",
       "          )\n",
       "        )\n",
       "      )\n",
       "    )\n",
       "  )\n",
       "  (dropout): Dropout(p=0.1, inplace=False)\n",
       "  (classifier): Linear(in_features=768, out_features=3, bias=True)\n",
       ")"
      ]
     },
     "execution_count": 2,
     "metadata": {},
     "output_type": "execute_result"
    }
   ],
   "source": [
    "from transformers import AutoTokenizer, AutoModelForTokenClassification\n",
    "import torch\n",
    "\n",
    "model_path = \"C:/Users/kpodd/OneDrive/Desktop/ml/NER/model\"  # путь к лучшей модели\n",
    "\n",
    "tokenizer = AutoTokenizer.from_pretrained(model_path)\n",
    "model = AutoModelForTokenClassification.from_pretrained(model_path)\n",
    "model.eval()"
   ]
  },
  {
   "cell_type": "code",
   "execution_count": 3,
   "id": "20fd1cd7",
   "metadata": {},
   "outputs": [],
   "source": [
    "label_list = [\"O\", \"B-PRF\", \"I-PRF\"]\n",
    "id2label = {i: label for i, label in enumerate(label_list)}"
   ]
  },
  {
   "cell_type": "code",
   "execution_count": 7,
   "id": "fcd050fb",
   "metadata": {},
   "outputs": [],
   "source": [
    "def predict_labels(text: str):\n",
    "    # Токенизация с привязкой к словам\n",
    "    tokens = text.strip().split()\n",
    "    encoding = tokenizer(\n",
    "        tokens,\n",
    "        is_split_into_words=True,\n",
    "        return_offsets_mapping=True,\n",
    "        return_tensors=\"pt\",\n",
    "        truncation=True,\n",
    "        max_length=256\n",
    "    )\n",
    "\n",
    "    offset_mapping = encoding.pop('offset_mapping')\n",
    "    with torch.no_grad():\n",
    "        outputs = model(**encoding)\n",
    "    \n",
    "    logits = outputs.logits\n",
    "    preds = torch.argmax(logits, dim=2).squeeze().tolist()\n",
    "    word_ids = encoding.word_ids()\n",
    "\n",
    "    word_labels = []\n",
    "    current_word = None\n",
    "    current_label = \"O\"\n",
    "\n",
    "    for i, word_id in enumerate(word_ids):\n",
    "        if word_id is None:\n",
    "            continue\n",
    "        if word_id != current_word:\n",
    "            current_word = word_id\n",
    "            current_label = id2label[preds[i]]\n",
    "            word_labels.append(current_label)\n",
    "\n",
    "    return tokens, word_labels"
   ]
  },
  {
   "cell_type": "code",
   "execution_count": 5,
   "id": "22e96030",
   "metadata": {},
   "outputs": [],
   "source": [
    "def censor_word(word: str, mask_char: str = \"*\") -> str:\n",
    "    if len(word) <= 2:\n",
    "        return mask_char * len(word)\n",
    "    return word[0] + mask_char * (len(word) - 2) + word[-1]\n",
    "\n",
    "def censor_text(text: str, censor_mode: str = \"smart\", mask_char: str = \"*\") -> str:\n",
    "    tokens, labels = predict_labels(text)\n",
    "\n",
    "    censored_tokens = []\n",
    "    for token, label in zip(tokens, labels):\n",
    "        if label in [\"B-PRF\", \"I-PRF\"]:\n",
    "            if censor_mode == \"stars\":\n",
    "                censored = mask_char * len(token)\n",
    "            elif censor_mode == \"smart\":\n",
    "                censored = censor_word(token, mask_char)\n",
    "            else:\n",
    "                censored = \"[CENSORED]\"\n",
    "            censored_tokens.append(censored)\n",
    "        else:\n",
    "            censored_tokens.append(token)\n",
    "    \n",
    "    return \" \".join(censored_tokens)"
   ]
  },
  {
   "cell_type": "code",
   "execution_count": 21,
   "id": "45dfb7c9",
   "metadata": {},
   "outputs": [
    {
     "name": "stdout",
     "output_type": "stream",
     "text": [
      "Оригинал: Ты совсем ахуел пидарас ебаный. Не притворяйся мужиком, ты тот еще гандон мелкий.\n",
      "Цензура : Ты совсем а***л п*****с е*****. Не притворяйся мужиком, ты тот еще г****н мелкий.\n"
     ]
    }
   ],
   "source": [
    "text = \"Ты совсем ахуел пидарас ебаный. Не притворяйся мужиком, ты тот еще гандон мелкий.\"\n",
    "print(\"Оригинал:\", text)\n",
    "print(\"Цензура :\", censor_text(text, censor_mode=\"smart\"))"
   ]
  }
 ],
 "metadata": {
  "kernelspec": {
   "display_name": "Python 3",
   "language": "python",
   "name": "python3"
  },
  "language_info": {
   "codemirror_mode": {
    "name": "ipython",
    "version": 3
   },
   "file_extension": ".py",
   "mimetype": "text/x-python",
   "name": "python",
   "nbconvert_exporter": "python",
   "pygments_lexer": "ipython3",
   "version": "3.13.3"
  }
 },
 "nbformat": 4,
 "nbformat_minor": 5
}
